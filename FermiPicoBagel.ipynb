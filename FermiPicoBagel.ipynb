{
  "nbformat": 4,
  "nbformat_minor": 0,
  "metadata": {
    "colab": {
      "provenance": []
    },
    "kernelspec": {
      "name": "python3",
      "display_name": "Python 3"
    },
    "language_info": {
      "name": "python"
    }
  },
  "cells": [
    {
      "cell_type": "code",
      "execution_count": 1,
      "metadata": {
        "colab": {
          "base_uri": "https://localhost:8080/"
        },
        "id": "TuUaZFbzyHac",
        "outputId": "7a2cadf4-eb70-4ab1-e3d9-45576f100c0e"
      },
      "outputs": [
        {
          "output_type": "stream",
          "name": "stdout",
          "text": [
            "enter a no of your choice=340\n",
            "Fermi Fermi Fermi  You Win(IL PREDISINATO)!!\n"
          ]
        }
      ],
      "source": [
        "## step 1\n",
        "original_number='340'\n",
        "## create infinite while loop\n",
        "while True:\n",
        "  guess_number=str(input('enter a no of your choice='))\n",
        "\n",
        "\n",
        "  ## step 2 and step 6\n",
        "  output_string = ''\n",
        "  output=[]\n",
        "\n",
        "  ## step 3 and step 4 (use continue statement)\n",
        "  if len(original_number)!= len(guess_number):\n",
        "    print('Enter valid input')\n",
        "  elif len(set(guess_number))!=len(guess_number):\n",
        "    print('Duplicate no detected')\n",
        "    continue\n",
        "  ## step 5 (use break statement for winning condition)\n",
        "  if guess_number==original_number:\n",
        "    print('Fermi '*len(original_number),end=' ')\n",
        "    print('You Win(IL PREDISINATO)!!')\n",
        "    break\n",
        "\n",
        "  ## step 7\n",
        "\n",
        "  for i in range(len(guess_number)):\n",
        "    if guess_number[i]==original_number[i]:\n",
        "      output.append('Fermi')\n",
        "    elif guess_number[i] in original_number:\n",
        "      output.append('Pico')\n",
        "\n",
        "\n",
        "\n",
        "  ## step 8\n",
        "  for i in output:\n",
        "    output_string+=i+' '\n",
        "\n",
        "\n",
        "\n",
        "  ## step 9\n",
        "  if len(output)==0:\n",
        "      print('Bagel')\n",
        "  else:\n",
        "      print(output_string,end=' ')\n",
        "\n"
      ]
    },
    {
      "cell_type": "code",
      "source": [],
      "metadata": {
        "id": "keMMESx9yJWa"
      },
      "execution_count": null,
      "outputs": []
    }
  ]
}